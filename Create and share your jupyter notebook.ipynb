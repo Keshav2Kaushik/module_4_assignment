{
 "cells": [
  {
   "cell_type": "markdown",
   "id": "53a0e9aa",
   "metadata": {},
   "source": [
    "# My Jupyter Notebook on IBM Watson Studio"
   ]
  },
  {
   "cell_type": "markdown",
   "id": "ae20f54c",
   "metadata": {},
   "source": [
    "##  Name -  Keshav Kaushik\n",
    "##  Desired Occupation - Data Scientist"
   ]
  },
  {
   "cell_type": "markdown",
   "id": "5dc77b54",
   "metadata": {},
   "source": [
    "_\"I am intrested in data science because Data science is a rapidly growing field with high demand for skilled professionals. Companies are increasingly relying on data to drive decision-making and improve business outcomes, creating a need for people with expertise in data analysis, statistics, machine learning, and programming.\"_"
   ]
  },
  {
   "cell_type": "markdown",
   "id": "e4534db3",
   "metadata": {},
   "source": [
    "### Below i am writing a python code that prints a line"
   ]
  },
  {
   "cell_type": "code",
   "execution_count": 2,
   "id": "d6fb113d",
   "metadata": {},
   "outputs": [
    {
     "name": "stdout",
     "output_type": "stream",
     "text": [
      "Python is an easy language to learn\n"
     ]
    }
   ],
   "source": [
    "print(\"Python is an easy language to learn\")"
   ]
  },
  {
   "cell_type": "markdown",
   "id": "d33e0bef",
   "metadata": {},
   "source": [
    "## Bullet List\n",
    "\n",
    "- bullet_point_1\n",
    "- bullet_point_2\n",
    "- bullet_point_3\n",
    "\n",
    "## Numbered List\n",
    "\n",
    "1. item_1\n",
    "2. item_2\n",
    "3. item_3\n",
    "\n",
    "## Tables\n",
    "\n",
    "|head1|head2|head3|\n",
    "|-----|-----|-----|\n",
    "|i1   |   i2|   i3|\n",
    "|j1   |j2   |   j3|"
   ]
  },
  {
   "cell_type": "code",
   "execution_count": null,
   "id": "f8ca1dc6",
   "metadata": {},
   "outputs": [],
   "source": []
  }
 ],
 "metadata": {
  "kernelspec": {
   "display_name": "Python 3 (ipykernel)",
   "language": "python",
   "name": "python3"
  },
  "language_info": {
   "codemirror_mode": {
    "name": "ipython",
    "version": 3
   },
   "file_extension": ".py",
   "mimetype": "text/x-python",
   "name": "python",
   "nbconvert_exporter": "python",
   "pygments_lexer": "ipython3",
   "version": "3.9.13"
  }
 },
 "nbformat": 4,
 "nbformat_minor": 5
}
